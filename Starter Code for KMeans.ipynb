{
 "cells": [
  {
   "cell_type": "code",
   "execution_count": 9,
   "metadata": {},
   "outputs": [],
   "source": [
    "import numpy as np\n",
    "import matplotlib.pyplot as plt"
   ]
  },
  {
   "cell_type": "code",
   "execution_count": 10,
   "metadata": {},
   "outputs": [],
   "source": [
    "X=np.array([[1,2],[1.5,1.8],[5,8],[8,8],[1,0.6],[9,11]])\n"
   ]
  },
  {
   "cell_type": "code",
   "execution_count": 11,
   "metadata": {},
   "outputs": [
    {
     "data": {
      "image/png": "[encoded data removed]",
      "text/plain": [
       "<Figure size 432x288 with 1 Axes>"
      ]
     },
     "metadata": {
      "needs_background": "light"
     },
     "output_type": "display_data"
    }
   ],
   "source": [
    "plt.scatter(X[:,0],X[:,1])\n",
    "plt.show()"
   ]
  },
  {
   "cell_type": "code",
   "execution_count": 14,
   "metadata": {},
   "outputs": [],
   "source": [
    "#Fit function\n",
    "#Arguments would be the data, number of clusters and the maximum number of iterations\n",
    "def fit1(data,k=2,max_iter=100):\n",
    "#The data to be maintained --> \n",
    "#1)list of mean values. Initially it will be randomly initialized and eventually will be updated. \n",
    "#2) Cluster information i.e. which point belongs to which cluster. An array of arrays with k entries, \n",
    "#each entry represents what all data points are in that cluster. Find the new mean values. Need to know all \n",
    "#the points present in each cluster to find the mean value\n",
    "    means=[] #randomly initialize the means\n",
    "    \n",
    "    #Picking the first k data points and assigning them to be our initial means\n",
    "    for i in range(k):\n",
    "        means.append(data[i])\n",
    "    \n",
    "    for i in range(max_iter):\n",
    "        #Assign the data points to the cluster that they belong to\n",
    "        #Create empty clusters\n",
    "        clusters=[] #Will have the cluster information. This will have k sub-arrays (array of arrays as dicussed above)\n",
    "        for j in range(k):\n",
    "            clusters.append([]) #Everytime I start a new iteration, going to start with an empty cluster since data \n",
    "            #points will be reassigned to the cluster. We're going to have some means, assign the data points to\n",
    "            # some clusters, calculate the new means and then assign the data points to the new clusters\n",
    "        #Going through each data point\n",
    "        for point in data:\n",
    "            #find distance to all the mean values\n",
    "            distances=[((point-m)**2).sum()for m in means] # Taking sum of squares of element-wise subtraction\n",
    "            \n",
    "            #find the minimum distance\n",
    "            minDistance=min(distances) #Taking minium value from the distances array\n",
    "            \n",
    "            #find the mean for which we got the minimum distance --> l\n",
    "            l=distances.index(minDistance) #l is basically the index of the minDistance obtained above, the cluster the\n",
    "            #point belongs to\n",
    "            \n",
    "            #add this point to cluster l\n",
    "            clusters[l].append(point) #Add this point to that particular cluster\n",
    "            \n",
    "        \n",
    "        \n",
    "        #Calculate the new mean values\n",
    "        #go through each of the clusters \n",
    "        for j in range(k):\n",
    "            new_mean=np.average(clusters[j]) #Taking average of jth cluster\n",
    "            #update the jth mean\n",
    "            means[j]=new_mean\n",
    "    return means"
   ]
  },
  {
   "cell_type": "code",
   "execution_count": 15,
   "metadata": {},
   "outputs": [
    {
     "data": {
      "text/plain": [
       "[1.3166666666666667, 8.166666666666666]"
      ]
     },
     "execution_count": 15,
     "metadata": {},
     "output_type": "execute_result"
    }
   ],
   "source": [
    "fit1(X)\n",
    "#There is a small problem here. I was expecting 2 means since I've used 2 clusters where each mean is basically a \n",
    "#combination of (x,y). This doesn't look correct.\n",
    "#The problem is that you need to pass the axis in 'new_mean=np.average(clusters[j])'. Right now it is finding\n",
    "#the average of cluster j of all the points and combines the x and y values"
   ]
  },
  {
   "cell_type": "code",
   "execution_count": 16,
   "metadata": {},
   "outputs": [],
   "source": [
    "#Fit function with the changes incorporated for above\n",
    "\n",
    "#Arguments would be the data, number of clusters and the maximum number of iterations\n",
    "def fit2(data,k=2,max_iter=100):\n",
    "#The data to be maintained --> \n",
    "#1)list of mean values. Initially it will be randomly initialized and eventually will be updated. \n",
    "#2) Cluster information i.e. which point belongs to which cluster. An array of arrays with k entries, \n",
    "#each entry represents what all data points are in that cluster. Find the new mean values. Need to know all \n",
    "#the points present in each cluster to find the mean value\n",
    "    means=[] #randomly initialize the means\n",
    "    \n",
    "    #Picking the first k data points and assigning them to be our initial means\n",
    "    for i in range(k):\n",
    "        means.append(data[i])\n",
    "    \n",
    "    for i in range(max_iter):\n",
    "        #Assign the data points to the cluster that they belong to\n",
    "        #Create empty clusters\n",
    "        clusters=[] #Will have the cluster information. This will have k sub-arrays (array of arrays as dicussed above)\n",
    "        for j in range(k):\n",
    "            clusters.append([]) #Everytime I start a new iteration, going to start with an empty cluster since data \n",
    "            #points will be reassigned to the cluster. We're going to have some means, assign the data points to\n",
    "            # some clusters, calculate the new means and then assign the data points to the new clusters\n",
    "        #Going through each data point\n",
    "        for point in data:\n",
    "            #find distance to all the mean values\n",
    "            distances=[((point-m)**2).sum()for m in means] # Taking sum of squares of element-wise subtraction\n",
    "            \n",
    "            #find the minimum distance\n",
    "            minDistance=min(distances) #Taking minium value from the distances array\n",
    "            \n",
    "            #find the mean for which we got the minimum distance --> l\n",
    "            l=distances.index(minDistance) #l is basically the index of the minDistance obtained above, the cluster the\n",
    "            #point belongs to\n",
    "            \n",
    "            #add this point to cluster l\n",
    "            clusters[l].append(point) #Add this point to that particular cluster\n",
    "            \n",
    "        \n",
    "        \n",
    "        #Calculate the new mean values\n",
    "        #go through each of the clusters \n",
    "        for j in range(k):\n",
    "            new_mean=np.average(clusters[j],axis=0) #Taking average of jth cluster\n",
    "            #update the jth mean\n",
    "            means[j]=new_mean\n",
    "    return means"
   ]
  },
  {
   "cell_type": "code",
   "execution_count": 17,
   "metadata": {},
   "outputs": [
    {
     "data": {
      "text/plain": [
       "[array([1.16666667, 1.46666667]), array([7.33333333, 9.        ])]"
      ]
     },
     "execution_count": 17,
     "metadata": {},
     "output_type": "execute_result"
    }
   ],
   "source": [
    "fit2(X)\n",
    "#Now this gives us the 2 means that we require with the x and y values"
   ]
  },
  {
   "cell_type": "code",
   "execution_count": 18,
   "metadata": {},
   "outputs": [],
   "source": [
    "#If there is an iteration after which there is no change at all in the mean values, then I want to stop early\n",
    "\n",
    "#Fit function with stopping early criteria\n",
    "\n",
    "#Arguments would be the data, number of clusters and the maximum number of iterations\n",
    "def fit3(data,k=2,max_iter=100):\n",
    "#The data to be maintained --> \n",
    "#1)list of mean values. Initially it will be randomly initialized and eventually will be updated. \n",
    "#2) Cluster information i.e. which point belongs to which cluster. An array of arrays with k entries, \n",
    "#each entry represents what all data points are in that cluster. Find the new mean values. Need to know all \n",
    "#the points present in each cluster to find the mean value\n",
    "    means=[] #randomly initialize the means\n",
    "    \n",
    "    #Picking the first k data points and assigning them to be our initial means\n",
    "    for i in range(k):\n",
    "        means.append(data[i])\n",
    "    \n",
    "    for i in range(max_iter):\n",
    "        #Assign the data points to the cluster that they belong to\n",
    "        #Create empty clusters\n",
    "        clusters=[] #Will have the cluster information. This will have k sub-arrays (array of arrays as dicussed above)\n",
    "        for j in range(k):\n",
    "            clusters.append([]) #Everytime I start a new iteration, going to start with an empty cluster since data \n",
    "            #points will be reassigned to the cluster. We're going to have some means, assign the data points to\n",
    "            # some clusters, calculate the new means and then assign the data points to the new clusters\n",
    "        #Going through each data point\n",
    "        for point in data:\n",
    "            #find distance to all the mean values\n",
    "            distances=[((point-m)**2).sum()for m in means] # Taking sum of squares of element-wise subtraction\n",
    "            \n",
    "            #find the minimum distance\n",
    "            minDistance=min(distances) #Taking minium value from the distances array\n",
    "            \n",
    "            #find the mean for which we got the minimum distance --> l\n",
    "            l=distances.index(minDistance) #l is basically the index of the minDistance obtained above, the cluster the\n",
    "            #point belongs to\n",
    "            \n",
    "            #add this point to cluster l\n",
    "            clusters[l].append(point) #Add this point to that particular cluster\n",
    "            \n",
    "        \n",
    "        \n",
    "        #Calculate the new mean values\n",
    "        change=False\n",
    "        #go through each of the clusters \n",
    "        for j in range(k):\n",
    "            new_mean=np.average(clusters[j],axis=0) #Taking average of jth cluster\n",
    "            \n",
    "            #You want to check if the new mean value and the old mean value are exactly the same and there is no change\n",
    "            if not np.array_equal(means[j],new_mean): #To check if the two arrays are not equal\n",
    "                change=True\n",
    "                \n",
    "            #update the jth mean\n",
    "            means[j]=new_mean\n",
    "        if not change: #This means that nothing has changed\n",
    "            break #Not running anymore iterations\n",
    "    return means"
   ]
  },
  {
   "cell_type": "code",
   "execution_count": 19,
   "metadata": {},
   "outputs": [
    {
     "data": {
      "text/plain": [
       "[array([1.16666667, 1.46666667]), array([7.33333333, 9.        ])]"
      ]
     },
     "execution_count": 19,
     "metadata": {},
     "output_type": "execute_result"
    }
   ],
   "source": [
    "fit3(X)"
   ]
  },
  {
   "cell_type": "code",
   "execution_count": 20,
   "metadata": {},
   "outputs": [],
   "source": [
    "#The fit function right now does not predict anything; it does not tell which point belongs to which category.\n",
    "#It just tells us what are the means of these clusters. So we create a predict function for that\n",
    "\n",
    "def predict(test_data,means):\n",
    "    predictions=[]\n",
    "    for point in test_data:\n",
    "        #find distance to all the mean values\n",
    "        distances=[((point-m)**2).sum()for m in means] # Taking sum of squares of element-wise subtraction\n",
    "            \n",
    "        #find the minimum distance\n",
    "        minDistance=min(distances) #Taking minium value from the distances array\n",
    "            \n",
    "        #find the mean for which we got the minimum distance --> l\n",
    "        l=distances.index(minDistance) #l is basically the index of the minDistance obtained above, the cluster the\n",
    "        #point belongs to\n",
    "        \n",
    "        predictions.append(l)\n",
    "    return predictions"
   ]
  },
  {
   "cell_type": "code",
   "execution_count": 22,
   "metadata": {},
   "outputs": [
    {
     "data": {
      "text/plain": [
       "[array([1.16666667, 1.46666667]), array([7.33333333, 9.        ])]"
      ]
     },
     "execution_count": 22,
     "metadata": {},
     "output_type": "execute_result"
    }
   ],
   "source": [
    "means=fit3(X)\n",
    "means"
   ]
  },
  {
   "cell_type": "code",
   "execution_count": 23,
   "metadata": {},
   "outputs": [
    {
     "data": {
      "text/plain": [
       "[0, 0, 1, 1, 0, 1]"
      ]
     },
     "execution_count": 23,
     "metadata": {},
     "output_type": "execute_result"
    }
   ],
   "source": [
    "predict(X,means) #Gives us the clusters to which these points belong"
   ]
  },
  {
   "cell_type": "code",
   "execution_count": null,
   "metadata": {},
   "outputs": [],
   "source": []
  }
 ],
 "metadata": {
  "kernelspec": {
   "display_name": "Python 3",
   "language": "python",
   "name": "python3"
  },
  "language_info": {
   "codemirror_mode": {
    "name": "ipython",
    "version": 3
   },
   "file_extension": ".py",
   "mimetype": "text/x-python",
   "name": "python",
   "nbconvert_exporter": "python",
   "pygments_lexer": "ipython3",
   "version": "3.7.3"
  }
 },
 "nbformat": 4,
 "nbformat_minor": 4
}
